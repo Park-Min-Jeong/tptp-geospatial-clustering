{
 "cells": [
  {
   "cell_type": "code",
   "execution_count": 1,
   "id": "7020da7a",
   "metadata": {
    "ExecuteTime": {
     "end_time": "2023-07-17T02:29:36.170680Z",
     "start_time": "2023-07-17T02:29:35.662580Z"
    }
   },
   "outputs": [],
   "source": [
    "import pandas as pd"
   ]
  },
  {
   "cell_type": "code",
   "execution_count": 2,
   "id": "41167c28",
   "metadata": {
    "ExecuteTime": {
     "end_time": "2023-07-17T02:29:36.469351Z",
     "start_time": "2023-07-17T02:29:36.176670Z"
    },
    "scrolled": true
   },
   "outputs": [
    {
     "data": {
      "text/html": [
       "<div>\n",
       "<style scoped>\n",
       "    .dataframe tbody tr th:only-of-type {\n",
       "        vertical-align: middle;\n",
       "    }\n",
       "\n",
       "    .dataframe tbody tr th {\n",
       "        vertical-align: top;\n",
       "    }\n",
       "\n",
       "    .dataframe thead th {\n",
       "        text-align: right;\n",
       "    }\n",
       "</style>\n",
       "<table border=\"1\" class=\"dataframe\">\n",
       "  <thead>\n",
       "    <tr style=\"text-align: right;\">\n",
       "      <th></th>\n",
       "      <th>ID</th>\n",
       "      <th>LCLAS_NM</th>\n",
       "      <th>MLSFC_NM</th>\n",
       "      <th>POI_ID</th>\n",
       "      <th>POI_NM</th>\n",
       "      <th>BHF_NM</th>\n",
       "      <th>ASSTN_NM</th>\n",
       "      <th>CL_CD</th>\n",
       "      <th>CL_NM</th>\n",
       "      <th>PNU</th>\n",
       "      <th>...</th>\n",
       "      <th>RDNMADR_CD</th>\n",
       "      <th>RDNMADR_NM</th>\n",
       "      <th>BULD_NO</th>\n",
       "      <th>LC_LO</th>\n",
       "      <th>LC_LA</th>\n",
       "      <th>GID_CD</th>\n",
       "      <th>LAST_CHG_DE</th>\n",
       "      <th>ORIGIN_NM</th>\n",
       "      <th>FILE_NM</th>\n",
       "      <th>BASE_DE</th>\n",
       "    </tr>\n",
       "  </thead>\n",
       "  <tbody>\n",
       "    <tr>\n",
       "      <th>0</th>\n",
       "      <td>KCLANPO22N000000001</td>\n",
       "      <td>장소</td>\n",
       "      <td>관광지</td>\n",
       "      <td>817379</td>\n",
       "      <td>운문호</td>\n",
       "      <td>NaN</td>\n",
       "      <td>NaN</td>\n",
       "      <td>110208</td>\n",
       "      <td>대형호수/저수지</td>\n",
       "      <td>NaN</td>\n",
       "      <td>...</td>\n",
       "      <td>NaN</td>\n",
       "      <td>NaN</td>\n",
       "      <td>NaN</td>\n",
       "      <td>128.932090</td>\n",
       "      <td>35.729306</td>\n",
       "      <td>마마295490</td>\n",
       "      <td>20220809</td>\n",
       "      <td>KT</td>\n",
       "      <td>KC_495_LLR_ATRCTN_2022</td>\n",
       "      <td>20220809</td>\n",
       "    </tr>\n",
       "    <tr>\n",
       "      <th>1</th>\n",
       "      <td>KCLANPO22N000000002</td>\n",
       "      <td>장소</td>\n",
       "      <td>관광지</td>\n",
       "      <td>5497426</td>\n",
       "      <td>유마사</td>\n",
       "      <td>NaN</td>\n",
       "      <td>NaN</td>\n",
       "      <td>180301</td>\n",
       "      <td>유명사찰</td>\n",
       "      <td>4.679040e+18</td>\n",
       "      <td>...</td>\n",
       "      <td>4.679030e+11</td>\n",
       "      <td>유마로</td>\n",
       "      <td>603</td>\n",
       "      <td>127.171274</td>\n",
       "      <td>35.018297</td>\n",
       "      <td>다라700693</td>\n",
       "      <td>20220809</td>\n",
       "      <td>KT</td>\n",
       "      <td>KC_495_LLR_ATRCTN_2022</td>\n",
       "      <td>20220809</td>\n",
       "    </tr>\n",
       "    <tr>\n",
       "      <th>2</th>\n",
       "      <td>KCLANPO22N000000003</td>\n",
       "      <td>장소</td>\n",
       "      <td>관광지</td>\n",
       "      <td>5497607</td>\n",
       "      <td>안정사</td>\n",
       "      <td>NaN</td>\n",
       "      <td>NaN</td>\n",
       "      <td>180301</td>\n",
       "      <td>유명사찰</td>\n",
       "      <td>4.822030e+18</td>\n",
       "      <td>...</td>\n",
       "      <td>4.822050e+11</td>\n",
       "      <td>안정1길</td>\n",
       "      <td>363</td>\n",
       "      <td>128.395593</td>\n",
       "      <td>34.943969</td>\n",
       "      <td>라라817613</td>\n",
       "      <td>20220809</td>\n",
       "      <td>KT</td>\n",
       "      <td>KC_495_LLR_ATRCTN_2022</td>\n",
       "      <td>20220809</td>\n",
       "    </tr>\n",
       "    <tr>\n",
       "      <th>3</th>\n",
       "      <td>KCLANPO22N000000004</td>\n",
       "      <td>장소</td>\n",
       "      <td>관광지</td>\n",
       "      <td>5545868</td>\n",
       "      <td>염불암</td>\n",
       "      <td>NaN</td>\n",
       "      <td>NaN</td>\n",
       "      <td>180301</td>\n",
       "      <td>유명사찰</td>\n",
       "      <td>4.117110e+18</td>\n",
       "      <td>...</td>\n",
       "      <td>4.117140e+11</td>\n",
       "      <td>예술공원로245번길</td>\n",
       "      <td>150</td>\n",
       "      <td>126.934391</td>\n",
       "      <td>37.428729</td>\n",
       "      <td>다사499367</td>\n",
       "      <td>20220809</td>\n",
       "      <td>KT</td>\n",
       "      <td>KC_495_LLR_ATRCTN_2022</td>\n",
       "      <td>20220809</td>\n",
       "    </tr>\n",
       "    <tr>\n",
       "      <th>4</th>\n",
       "      <td>KCLANPO22N000000005</td>\n",
       "      <td>장소</td>\n",
       "      <td>관광지</td>\n",
       "      <td>332239</td>\n",
       "      <td>귀신사</td>\n",
       "      <td>NaN</td>\n",
       "      <td>NaN</td>\n",
       "      <td>180301</td>\n",
       "      <td>유명사찰</td>\n",
       "      <td>4.521050e+18</td>\n",
       "      <td>...</td>\n",
       "      <td>4.521050e+11</td>\n",
       "      <td>청도6길</td>\n",
       "      <td>40</td>\n",
       "      <td>127.046958</td>\n",
       "      <td>35.745312</td>\n",
       "      <td>다마590499</td>\n",
       "      <td>20220809</td>\n",
       "      <td>KT</td>\n",
       "      <td>KC_495_LLR_ATRCTN_2022</td>\n",
       "      <td>20220809</td>\n",
       "    </tr>\n",
       "  </tbody>\n",
       "</table>\n",
       "<p>5 rows × 27 columns</p>\n",
       "</div>"
      ],
      "text/plain": [
       "                    ID LCLAS_NM MLSFC_NM   POI_ID POI_NM BHF_NM  ASSTN_NM  \\\n",
       "0  KCLANPO22N000000001       장소      관광지   817379    운문호    NaN       NaN   \n",
       "1  KCLANPO22N000000002       장소      관광지  5497426    유마사    NaN       NaN   \n",
       "2  KCLANPO22N000000003       장소      관광지  5497607    안정사    NaN       NaN   \n",
       "3  KCLANPO22N000000004       장소      관광지  5545868    염불암    NaN       NaN   \n",
       "4  KCLANPO22N000000005       장소      관광지   332239    귀신사    NaN       NaN   \n",
       "\n",
       "    CL_CD     CL_NM           PNU  ...    RDNMADR_CD  RDNMADR_NM BULD_NO  \\\n",
       "0  110208  대형호수/저수지           NaN  ...           NaN         NaN     NaN   \n",
       "1  180301      유명사찰  4.679040e+18  ...  4.679030e+11         유마로     603   \n",
       "2  180301      유명사찰  4.822030e+18  ...  4.822050e+11        안정1길     363   \n",
       "3  180301      유명사찰  4.117110e+18  ...  4.117140e+11  예술공원로245번길     150   \n",
       "4  180301      유명사찰  4.521050e+18  ...  4.521050e+11        청도6길      40   \n",
       "\n",
       "        LC_LO      LC_LA    GID_CD  LAST_CHG_DE  ORIGIN_NM  \\\n",
       "0  128.932090  35.729306  마마295490     20220809         KT   \n",
       "1  127.171274  35.018297  다라700693     20220809         KT   \n",
       "2  128.395593  34.943969  라라817613     20220809         KT   \n",
       "3  126.934391  37.428729  다사499367     20220809         KT   \n",
       "4  127.046958  35.745312  다마590499     20220809         KT   \n",
       "\n",
       "                  FILE_NM   BASE_DE  \n",
       "0  KC_495_LLR_ATRCTN_2022  20220809  \n",
       "1  KC_495_LLR_ATRCTN_2022  20220809  \n",
       "2  KC_495_LLR_ATRCTN_2022  20220809  \n",
       "3  KC_495_LLR_ATRCTN_2022  20220809  \n",
       "4  KC_495_LLR_ATRCTN_2022  20220809  \n",
       "\n",
       "[5 rows x 27 columns]"
      ]
     },
     "execution_count": 2,
     "metadata": {},
     "output_type": "execute_result"
    }
   ],
   "source": [
    "data = pd.read_csv(\"./KC_495_LLR_ATRCTN_2022.csv\")\n",
    "data.head(5)"
   ]
  },
  {
   "cell_type": "code",
   "execution_count": 3,
   "id": "ccb8e1db",
   "metadata": {
    "ExecuteTime": {
     "end_time": "2023-07-17T02:29:36.564495Z",
     "start_time": "2023-07-17T02:29:36.471350Z"
    }
   },
   "outputs": [
    {
     "name": "stdout",
     "output_type": "stream",
     "text": [
      "<class 'pandas.core.frame.DataFrame'>\n",
      "RangeIndex: 37967 entries, 0 to 37966\n",
      "Data columns (total 27 columns):\n",
      " #   Column        Non-Null Count  Dtype  \n",
      "---  ------        --------------  -----  \n",
      " 0   ID            37967 non-null  object \n",
      " 1   LCLAS_NM      37967 non-null  object \n",
      " 2   MLSFC_NM      37967 non-null  object \n",
      " 3   POI_ID        37967 non-null  int64  \n",
      " 4   POI_NM        37967 non-null  object \n",
      " 5   BHF_NM        576 non-null    object \n",
      " 6   ASSTN_NM      0 non-null      float64\n",
      " 7   CL_CD         37967 non-null  int64  \n",
      " 8   CL_NM         37967 non-null  object \n",
      " 9   PNU           37328 non-null  float64\n",
      " 10  CTPRVN_NM     37967 non-null  object \n",
      " 11  SIGNGU_NM     37809 non-null  object \n",
      " 12  LEGALDONG_NM  37967 non-null  object \n",
      " 13  LI_NM         26548 non-null  object \n",
      " 14  LNBR_NO       37328 non-null  object \n",
      " 15  LEGALDONG_CD  37967 non-null  int64  \n",
      " 16  ADSTRD_CD     37967 non-null  int64  \n",
      " 17  RDNMADR_CD    19431 non-null  float64\n",
      " 18  RDNMADR_NM    19454 non-null  object \n",
      " 19  BULD_NO       19454 non-null  object \n",
      " 20  LC_LO         37967 non-null  float64\n",
      " 21  LC_LA         37967 non-null  float64\n",
      " 22  GID_CD        37967 non-null  object \n",
      " 23  LAST_CHG_DE   37967 non-null  int64  \n",
      " 24  ORIGIN_NM     37967 non-null  object \n",
      " 25  FILE_NM       37967 non-null  object \n",
      " 26  BASE_DE       37967 non-null  int64  \n",
      "dtypes: float64(5), int64(6), object(16)\n",
      "memory usage: 7.8+ MB\n"
     ]
    }
   ],
   "source": [
    "data.info()"
   ]
  },
  {
   "cell_type": "code",
   "execution_count": 4,
   "id": "a1a11a5d",
   "metadata": {
    "ExecuteTime": {
     "end_time": "2023-07-17T02:29:36.612276Z",
     "start_time": "2023-07-17T02:29:36.568370Z"
    }
   },
   "outputs": [
    {
     "data": {
      "text/html": [
       "<div>\n",
       "<style scoped>\n",
       "    .dataframe tbody tr th:only-of-type {\n",
       "        vertical-align: middle;\n",
       "    }\n",
       "\n",
       "    .dataframe tbody tr th {\n",
       "        vertical-align: top;\n",
       "    }\n",
       "\n",
       "    .dataframe thead th {\n",
       "        text-align: right;\n",
       "    }\n",
       "</style>\n",
       "<table border=\"1\" class=\"dataframe\">\n",
       "  <thead>\n",
       "    <tr style=\"text-align: right;\">\n",
       "      <th></th>\n",
       "      <th>ID</th>\n",
       "      <th>CL_NM</th>\n",
       "      <th>CTPRVN_NM</th>\n",
       "      <th>LC_LO</th>\n",
       "      <th>LC_LA</th>\n",
       "      <th>place_name</th>\n",
       "    </tr>\n",
       "  </thead>\n",
       "  <tbody>\n",
       "    <tr>\n",
       "      <th>0</th>\n",
       "      <td>KCLANPO22N000000001</td>\n",
       "      <td>대형호수/저수지</td>\n",
       "      <td>경상북도</td>\n",
       "      <td>128.932090</td>\n",
       "      <td>35.729306</td>\n",
       "      <td>운문호</td>\n",
       "    </tr>\n",
       "    <tr>\n",
       "      <th>1</th>\n",
       "      <td>KCLANPO22N000000002</td>\n",
       "      <td>유명사찰</td>\n",
       "      <td>전라남도</td>\n",
       "      <td>127.171274</td>\n",
       "      <td>35.018297</td>\n",
       "      <td>유마사</td>\n",
       "    </tr>\n",
       "    <tr>\n",
       "      <th>2</th>\n",
       "      <td>KCLANPO22N000000003</td>\n",
       "      <td>유명사찰</td>\n",
       "      <td>경상남도</td>\n",
       "      <td>128.395593</td>\n",
       "      <td>34.943969</td>\n",
       "      <td>안정사</td>\n",
       "    </tr>\n",
       "    <tr>\n",
       "      <th>3</th>\n",
       "      <td>KCLANPO22N000000004</td>\n",
       "      <td>유명사찰</td>\n",
       "      <td>경기도</td>\n",
       "      <td>126.934391</td>\n",
       "      <td>37.428729</td>\n",
       "      <td>염불암</td>\n",
       "    </tr>\n",
       "    <tr>\n",
       "      <th>4</th>\n",
       "      <td>KCLANPO22N000000005</td>\n",
       "      <td>유명사찰</td>\n",
       "      <td>전라북도</td>\n",
       "      <td>127.046958</td>\n",
       "      <td>35.745312</td>\n",
       "      <td>귀신사</td>\n",
       "    </tr>\n",
       "  </tbody>\n",
       "</table>\n",
       "</div>"
      ],
      "text/plain": [
       "                    ID     CL_NM CTPRVN_NM       LC_LO      LC_LA place_name\n",
       "0  KCLANPO22N000000001  대형호수/저수지      경상북도  128.932090  35.729306      운문호  \n",
       "1  KCLANPO22N000000002      유명사찰      전라남도  127.171274  35.018297      유마사  \n",
       "2  KCLANPO22N000000003      유명사찰      경상남도  128.395593  34.943969      안정사  \n",
       "3  KCLANPO22N000000004      유명사찰       경기도  126.934391  37.428729      염불암  \n",
       "4  KCLANPO22N000000005      유명사찰      전라북도  127.046958  35.745312      귀신사  "
      ]
     },
     "execution_count": 4,
     "metadata": {},
     "output_type": "execute_result"
    }
   ],
   "source": [
    "data[\"place_name\"] = data[\"POI_NM\"].str.cat(data[\"BHF_NM\"], sep=\" \", na_rep=\" \") # 장소명과 지점명 결합\n",
    "\n",
    "data = data.drop([\n",
    "    \"LCLAS_NM\", \"MLSFC_NM\", \"ASSTN_NM\", \"LAST_CHG_DE\", \"ORIGIN_NM\", \"FILE_NM\", \"BASE_DE\", # unique값이 1개\n",
    "    \"POI_ID\", \"CL_CD\", \"GID_CD\",\n",
    "    \"SIGNGU_NM\", \"POI_NM\", \"BHF_NM\", # 장소 이름 관련\n",
    "    \"PNU\", \"LEGALDONG_CD\", \"LEGALDONG_NM\", \"LI_NM\", \"LNBR_NO\", # 번지 주소 관련\n",
    "    \"ADSTRD_CD\", \"RDNMADR_CD\", \"RDNMADR_NM\", \"BULD_NO\" # 도로명 주소 관련\n",
    "], axis=1)\n",
    "data.head(5)"
   ]
  },
  {
   "cell_type": "code",
   "execution_count": 5,
   "id": "48f9d061",
   "metadata": {
    "ExecuteTime": {
     "end_time": "2023-07-17T02:29:36.644281Z",
     "start_time": "2023-07-17T02:29:36.614361Z"
    }
   },
   "outputs": [
    {
     "name": "stdout",
     "output_type": "stream",
     "text": [
      "<class 'pandas.core.frame.DataFrame'>\n",
      "RangeIndex: 37967 entries, 0 to 37966\n",
      "Data columns (total 6 columns):\n",
      " #   Column      Non-Null Count  Dtype  \n",
      "---  ------      --------------  -----  \n",
      " 0   ID          37967 non-null  object \n",
      " 1   CL_NM       37967 non-null  object \n",
      " 2   CTPRVN_NM   37967 non-null  object \n",
      " 3   LC_LO       37967 non-null  float64\n",
      " 4   LC_LA       37967 non-null  float64\n",
      " 5   place_name  37967 non-null  object \n",
      "dtypes: float64(2), object(4)\n",
      "memory usage: 1.7+ MB\n"
     ]
    }
   ],
   "source": [
    "data.info()"
   ]
  },
  {
   "cell_type": "code",
   "execution_count": 6,
   "id": "ae47881c",
   "metadata": {
    "ExecuteTime": {
     "end_time": "2023-07-17T02:29:36.660276Z",
     "start_time": "2023-07-17T02:29:36.646276Z"
    }
   },
   "outputs": [
    {
     "data": {
      "text/plain": [
       "지역호수/저수지        12658\n",
       "지역사찰            11209\n",
       "일반관광지            2573\n",
       "지역축제             2549\n",
       "토속/특산물/기념품매장     1988\n",
       "먹거리/패션거리         1401\n",
       "폭포/계곡             955\n",
       "관광농원/허브마을         931\n",
       "서원/향교/서당          858\n",
       "휴양림/수목원           557\n",
       "해수욕장              549\n",
       "일반유원지/일반놀이공원      445\n",
       "유명사찰              395\n",
       "유명관광지             310\n",
       "테마공원/대형놀이공원       268\n",
       "식물원               146\n",
       "대형호수/저수지           47\n",
       "동물원                44\n",
       "숲                  39\n",
       "아쿠아리움/대형수족관        29\n",
       "카지노                 9\n",
       "파라다이스카지노            4\n",
       "세븐럭카지노              3\n",
       "Name: CL_NM, dtype: int64"
      ]
     },
     "execution_count": 6,
     "metadata": {},
     "output_type": "execute_result"
    }
   ],
   "source": [
    "data[\"CL_NM\"].value_counts()"
   ]
  },
  {
   "cell_type": "code",
   "execution_count": 7,
   "id": "8073a145",
   "metadata": {
    "ExecuteTime": {
     "end_time": "2023-07-17T02:29:36.771661Z",
     "start_time": "2023-07-17T02:29:36.662233Z"
    }
   },
   "outputs": [],
   "source": [
    "data = data[~(data[\"CL_NM\"].str.contains(\"카지노\")) & (data[\"CL_NM\"]!=\"지역축제\")] # 카지노, 지역축제 제거\n",
    "\n",
    "data.replace({\n",
    "    \"대형호수/저수지\": \"호수/저수지\",\n",
    "    \"지역호수/저수지\": \"호수/저수지\",\n",
    "    \"숲\": \"휴양림/수목원\",\n",
    "    \"아쿠아리움/대형수족관\": \"수족관\",\n",
    "    \"일반유원지/일반놀이공원\": \"놀이공원\",\n",
    "    \"테마공원/대형놀이공원\": \"놀이공원\",\n",
    "    \"유명사찰\": \"사찰\",\n",
    "    \"지역사찰\": \"사찰\",\n",
    "    \"일반관광지\": \"지역관광지\",\n",
    "    \"유명관광지\": \"지역관광지\",\n",
    "    \"토속/특산물/기념품매장\": \"지역상권\",\n",
    "    \"먹거리/패션거리\": \"지역상권\"\n",
    "}, inplace=True) # 카테고리 정리"
   ]
  },
  {
   "cell_type": "code",
   "execution_count": 8,
   "id": "ca4512a5",
   "metadata": {
    "ExecuteTime": {
     "end_time": "2023-07-17T02:29:36.787596Z",
     "start_time": "2023-07-17T02:29:36.774657Z"
    },
    "scrolled": true
   },
   "outputs": [
    {
     "data": {
      "text/plain": [
       "호수/저수지       12705\n",
       "사찰           11604\n",
       "지역상권          3389\n",
       "지역관광지         2883\n",
       "폭포/계곡          955\n",
       "관광농원/허브마을      931\n",
       "서원/향교/서당       858\n",
       "놀이공원           713\n",
       "휴양림/수목원        596\n",
       "해수욕장           549\n",
       "식물원            146\n",
       "동물원             44\n",
       "수족관             29\n",
       "Name: CL_NM, dtype: int64"
      ]
     },
     "execution_count": 8,
     "metadata": {},
     "output_type": "execute_result"
    }
   ],
   "source": [
    "data[\"CL_NM\"].value_counts()"
   ]
  },
  {
   "cell_type": "code",
   "execution_count": 9,
   "id": "b8b6e4ac",
   "metadata": {
    "ExecuteTime": {
     "end_time": "2023-07-17T02:29:37.009584Z",
     "start_time": "2023-07-17T02:29:36.789594Z"
    }
   },
   "outputs": [],
   "source": [
    "category_dict = {\n",
    "    \"호수/저수지\": \"자연경관\",\n",
    "    \"폭포/계곡\": \"자연경관\",\n",
    "    \"휴양림/수목원\": \"자연경관\",\n",
    "    \"관광농원/허브마을\": \"자연경관\",\n",
    "    \"해수욕장\": \"자연경관\",\n",
    "    \"식물원\": \"테마공원\",\n",
    "    \"동물원\": \"테마공원\",\n",
    "    \"수족관\": \"테마공원\",\n",
    "    \"놀이공원\": \"테마공원\",\n",
    "    \"사찰\": \"문화재\",\n",
    "    \"서원/향교/서당\": \"문화재\",\n",
    "    \"지역관광지\": \"관광지\",\n",
    "    \"지역상권\": \"관광지\"\n",
    "}\n",
    "\n",
    "data[\"category\"] = data.apply(lambda x: category_dict[x[\"CL_NM\"]], axis=1) "
   ]
  },
  {
   "cell_type": "code",
   "execution_count": 10,
   "id": "1ec8c130",
   "metadata": {
    "ExecuteTime": {
     "end_time": "2023-07-17T02:29:37.040213Z",
     "start_time": "2023-07-17T02:29:37.014555Z"
    }
   },
   "outputs": [
    {
     "data": {
      "text/html": [
       "<div>\n",
       "<style scoped>\n",
       "    .dataframe tbody tr th:only-of-type {\n",
       "        vertical-align: middle;\n",
       "    }\n",
       "\n",
       "    .dataframe tbody tr th {\n",
       "        vertical-align: top;\n",
       "    }\n",
       "\n",
       "    .dataframe thead th {\n",
       "        text-align: right;\n",
       "    }\n",
       "</style>\n",
       "<table border=\"1\" class=\"dataframe\">\n",
       "  <thead>\n",
       "    <tr style=\"text-align: right;\">\n",
       "      <th></th>\n",
       "      <th>category_id</th>\n",
       "      <th>category_name</th>\n",
       "    </tr>\n",
       "  </thead>\n",
       "  <tbody>\n",
       "    <tr>\n",
       "      <th>0</th>\n",
       "      <td>CT1</td>\n",
       "      <td>자연경관</td>\n",
       "    </tr>\n",
       "    <tr>\n",
       "      <th>1</th>\n",
       "      <td>CT2</td>\n",
       "      <td>문화재</td>\n",
       "    </tr>\n",
       "    <tr>\n",
       "      <th>2</th>\n",
       "      <td>CT3</td>\n",
       "      <td>테마공원</td>\n",
       "    </tr>\n",
       "    <tr>\n",
       "      <th>3</th>\n",
       "      <td>CT4</td>\n",
       "      <td>관광지</td>\n",
       "    </tr>\n",
       "  </tbody>\n",
       "</table>\n",
       "</div>"
      ],
      "text/plain": [
       "  category_id category_name\n",
       "0         CT1          자연경관\n",
       "1         CT2           문화재\n",
       "2         CT3          테마공원\n",
       "3         CT4           관광지"
      ]
     },
     "execution_count": 10,
     "metadata": {},
     "output_type": "execute_result"
    }
   ],
   "source": [
    "category_df = pd.DataFrame(data[\"category\"].unique())\n",
    "category_df[\"category_id\"] = [f\"CT{i+1}\" for i in range(len(category_df))]\n",
    "category_df = category_df[[\"category_id\", 0]]\n",
    "category_df.columns = [\"category_id\", \"category_name\"]\n",
    "category_df"
   ]
  },
  {
   "cell_type": "code",
   "execution_count": 11,
   "id": "30257b01",
   "metadata": {
    "ExecuteTime": {
     "end_time": "2023-07-17T02:29:37.262315Z",
     "start_time": "2023-07-17T02:29:37.042905Z"
    }
   },
   "outputs": [],
   "source": [
    "category_id_dict = {\n",
    "    \"자연경관\": \"CT1\",\n",
    "    \"문화재\": \"CT2\",\n",
    "    \"테마공원\": \"CT3\",\n",
    "    \"관광지\": \"CT4\"\n",
    "}\n",
    "\n",
    "data[\"category\"] = data.apply(lambda x: category_id_dict[x[\"category\"]], axis=1)"
   ]
  },
  {
   "cell_type": "code",
   "execution_count": 12,
   "id": "a8263d75",
   "metadata": {
    "ExecuteTime": {
     "end_time": "2023-07-17T02:29:37.278275Z",
     "start_time": "2023-07-17T02:29:37.264312Z"
    }
   },
   "outputs": [
    {
     "data": {
      "text/html": [
       "<div>\n",
       "<style scoped>\n",
       "    .dataframe tbody tr th:only-of-type {\n",
       "        vertical-align: middle;\n",
       "    }\n",
       "\n",
       "    .dataframe tbody tr th {\n",
       "        vertical-align: top;\n",
       "    }\n",
       "\n",
       "    .dataframe thead th {\n",
       "        text-align: right;\n",
       "    }\n",
       "</style>\n",
       "<table border=\"1\" class=\"dataframe\">\n",
       "  <thead>\n",
       "    <tr style=\"text-align: right;\">\n",
       "      <th></th>\n",
       "      <th>ID</th>\n",
       "      <th>CL_NM</th>\n",
       "      <th>CTPRVN_NM</th>\n",
       "      <th>LC_LO</th>\n",
       "      <th>LC_LA</th>\n",
       "      <th>place_name</th>\n",
       "      <th>category</th>\n",
       "    </tr>\n",
       "  </thead>\n",
       "  <tbody>\n",
       "    <tr>\n",
       "      <th>0</th>\n",
       "      <td>KCLANPO22N000000001</td>\n",
       "      <td>호수/저수지</td>\n",
       "      <td>경상북도</td>\n",
       "      <td>128.932090</td>\n",
       "      <td>35.729306</td>\n",
       "      <td>운문호</td>\n",
       "      <td>CT1</td>\n",
       "    </tr>\n",
       "    <tr>\n",
       "      <th>1</th>\n",
       "      <td>KCLANPO22N000000002</td>\n",
       "      <td>사찰</td>\n",
       "      <td>전라남도</td>\n",
       "      <td>127.171274</td>\n",
       "      <td>35.018297</td>\n",
       "      <td>유마사</td>\n",
       "      <td>CT2</td>\n",
       "    </tr>\n",
       "    <tr>\n",
       "      <th>2</th>\n",
       "      <td>KCLANPO22N000000003</td>\n",
       "      <td>사찰</td>\n",
       "      <td>경상남도</td>\n",
       "      <td>128.395593</td>\n",
       "      <td>34.943969</td>\n",
       "      <td>안정사</td>\n",
       "      <td>CT2</td>\n",
       "    </tr>\n",
       "    <tr>\n",
       "      <th>3</th>\n",
       "      <td>KCLANPO22N000000004</td>\n",
       "      <td>사찰</td>\n",
       "      <td>경기도</td>\n",
       "      <td>126.934391</td>\n",
       "      <td>37.428729</td>\n",
       "      <td>염불암</td>\n",
       "      <td>CT2</td>\n",
       "    </tr>\n",
       "    <tr>\n",
       "      <th>4</th>\n",
       "      <td>KCLANPO22N000000005</td>\n",
       "      <td>사찰</td>\n",
       "      <td>전라북도</td>\n",
       "      <td>127.046958</td>\n",
       "      <td>35.745312</td>\n",
       "      <td>귀신사</td>\n",
       "      <td>CT2</td>\n",
       "    </tr>\n",
       "    <tr>\n",
       "      <th>...</th>\n",
       "      <td>...</td>\n",
       "      <td>...</td>\n",
       "      <td>...</td>\n",
       "      <td>...</td>\n",
       "      <td>...</td>\n",
       "      <td>...</td>\n",
       "      <td>...</td>\n",
       "    </tr>\n",
       "    <tr>\n",
       "      <th>37962</th>\n",
       "      <td>KCLANPO22N000037963</td>\n",
       "      <td>지역상권</td>\n",
       "      <td>충청북도</td>\n",
       "      <td>127.490279</td>\n",
       "      <td>36.639754</td>\n",
       "      <td>새한항업</td>\n",
       "      <td>CT4</td>\n",
       "    </tr>\n",
       "    <tr>\n",
       "      <th>37963</th>\n",
       "      <td>KCLANPO22N000037964</td>\n",
       "      <td>놀이공원</td>\n",
       "      <td>경상남도</td>\n",
       "      <td>128.073942</td>\n",
       "      <td>35.554817</td>\n",
       "      <td>합천정원테마파크청와대</td>\n",
       "      <td>CT3</td>\n",
       "    </tr>\n",
       "    <tr>\n",
       "      <th>37964</th>\n",
       "      <td>KCLANPO22N000037965</td>\n",
       "      <td>놀이공원</td>\n",
       "      <td>전라남도</td>\n",
       "      <td>127.651186</td>\n",
       "      <td>34.741940</td>\n",
       "      <td>소호해변공원</td>\n",
       "      <td>CT3</td>\n",
       "    </tr>\n",
       "    <tr>\n",
       "      <th>37965</th>\n",
       "      <td>KCLANPO22N000037966</td>\n",
       "      <td>놀이공원</td>\n",
       "      <td>경상북도</td>\n",
       "      <td>128.873494</td>\n",
       "      <td>35.949442</td>\n",
       "      <td>렛츠런파크(2023년1월예정)</td>\n",
       "      <td>CT3</td>\n",
       "    </tr>\n",
       "    <tr>\n",
       "      <th>37966</th>\n",
       "      <td>KCLANPO22N000037967</td>\n",
       "      <td>놀이공원</td>\n",
       "      <td>전라북도</td>\n",
       "      <td>127.299785</td>\n",
       "      <td>36.070461</td>\n",
       "      <td>금당유원지</td>\n",
       "      <td>CT3</td>\n",
       "    </tr>\n",
       "  </tbody>\n",
       "</table>\n",
       "<p>35402 rows × 7 columns</p>\n",
       "</div>"
      ],
      "text/plain": [
       "                        ID   CL_NM CTPRVN_NM       LC_LO      LC_LA  \\\n",
       "0      KCLANPO22N000000001  호수/저수지      경상북도  128.932090  35.729306   \n",
       "1      KCLANPO22N000000002      사찰      전라남도  127.171274  35.018297   \n",
       "2      KCLANPO22N000000003      사찰      경상남도  128.395593  34.943969   \n",
       "3      KCLANPO22N000000004      사찰       경기도  126.934391  37.428729   \n",
       "4      KCLANPO22N000000005      사찰      전라북도  127.046958  35.745312   \n",
       "...                    ...     ...       ...         ...        ...   \n",
       "37962  KCLANPO22N000037963    지역상권      충청북도  127.490279  36.639754   \n",
       "37963  KCLANPO22N000037964    놀이공원      경상남도  128.073942  35.554817   \n",
       "37964  KCLANPO22N000037965    놀이공원      전라남도  127.651186  34.741940   \n",
       "37965  KCLANPO22N000037966    놀이공원      경상북도  128.873494  35.949442   \n",
       "37966  KCLANPO22N000037967    놀이공원      전라북도  127.299785  36.070461   \n",
       "\n",
       "               place_name category  \n",
       "0                   운문호        CT1  \n",
       "1                   유마사        CT2  \n",
       "2                   안정사        CT2  \n",
       "3                   염불암        CT2  \n",
       "4                   귀신사        CT2  \n",
       "...                   ...      ...  \n",
       "37962              새한항업        CT4  \n",
       "37963       합천정원테마파크청와대        CT3  \n",
       "37964            소호해변공원        CT3  \n",
       "37965  렛츠런파크(2023년1월예정)        CT3  \n",
       "37966             금당유원지        CT3  \n",
       "\n",
       "[35402 rows x 7 columns]"
      ]
     },
     "execution_count": 12,
     "metadata": {},
     "output_type": "execute_result"
    }
   ],
   "source": [
    "data"
   ]
  },
  {
   "cell_type": "code",
   "execution_count": 13,
   "id": "86e25483",
   "metadata": {
    "ExecuteTime": {
     "end_time": "2023-07-17T02:29:37.294231Z",
     "start_time": "2023-07-17T02:29:37.281265Z"
    }
   },
   "outputs": [
    {
     "data": {
      "text/html": [
       "<div>\n",
       "<style scoped>\n",
       "    .dataframe tbody tr th:only-of-type {\n",
       "        vertical-align: middle;\n",
       "    }\n",
       "\n",
       "    .dataframe tbody tr th {\n",
       "        vertical-align: top;\n",
       "    }\n",
       "\n",
       "    .dataframe thead th {\n",
       "        text-align: right;\n",
       "    }\n",
       "</style>\n",
       "<table border=\"1\" class=\"dataframe\">\n",
       "  <thead>\n",
       "    <tr style=\"text-align: right;\">\n",
       "      <th></th>\n",
       "      <th>id</th>\n",
       "      <th>detail</th>\n",
       "      <th>region</th>\n",
       "      <th>lng</th>\n",
       "      <th>lat</th>\n",
       "      <th>place</th>\n",
       "      <th>category_id</th>\n",
       "    </tr>\n",
       "  </thead>\n",
       "  <tbody>\n",
       "    <tr>\n",
       "      <th>0</th>\n",
       "      <td>KCLANPO22N000000001</td>\n",
       "      <td>호수/저수지</td>\n",
       "      <td>경상북도</td>\n",
       "      <td>128.932090</td>\n",
       "      <td>35.729306</td>\n",
       "      <td>운문호</td>\n",
       "      <td>CT1</td>\n",
       "    </tr>\n",
       "    <tr>\n",
       "      <th>1</th>\n",
       "      <td>KCLANPO22N000000002</td>\n",
       "      <td>사찰</td>\n",
       "      <td>전라남도</td>\n",
       "      <td>127.171274</td>\n",
       "      <td>35.018297</td>\n",
       "      <td>유마사</td>\n",
       "      <td>CT2</td>\n",
       "    </tr>\n",
       "    <tr>\n",
       "      <th>2</th>\n",
       "      <td>KCLANPO22N000000003</td>\n",
       "      <td>사찰</td>\n",
       "      <td>경상남도</td>\n",
       "      <td>128.395593</td>\n",
       "      <td>34.943969</td>\n",
       "      <td>안정사</td>\n",
       "      <td>CT2</td>\n",
       "    </tr>\n",
       "    <tr>\n",
       "      <th>3</th>\n",
       "      <td>KCLANPO22N000000004</td>\n",
       "      <td>사찰</td>\n",
       "      <td>경기도</td>\n",
       "      <td>126.934391</td>\n",
       "      <td>37.428729</td>\n",
       "      <td>염불암</td>\n",
       "      <td>CT2</td>\n",
       "    </tr>\n",
       "    <tr>\n",
       "      <th>4</th>\n",
       "      <td>KCLANPO22N000000005</td>\n",
       "      <td>사찰</td>\n",
       "      <td>전라북도</td>\n",
       "      <td>127.046958</td>\n",
       "      <td>35.745312</td>\n",
       "      <td>귀신사</td>\n",
       "      <td>CT2</td>\n",
       "    </tr>\n",
       "  </tbody>\n",
       "</table>\n",
       "</div>"
      ],
      "text/plain": [
       "                    id  detail region         lng        lat  place  \\\n",
       "0  KCLANPO22N000000001  호수/저수지   경상북도  128.932090  35.729306  운문호     \n",
       "1  KCLANPO22N000000002      사찰   전라남도  127.171274  35.018297  유마사     \n",
       "2  KCLANPO22N000000003      사찰   경상남도  128.395593  34.943969  안정사     \n",
       "3  KCLANPO22N000000004      사찰    경기도  126.934391  37.428729  염불암     \n",
       "4  KCLANPO22N000000005      사찰   전라북도  127.046958  35.745312  귀신사     \n",
       "\n",
       "  category_id  \n",
       "0         CT1  \n",
       "1         CT2  \n",
       "2         CT2  \n",
       "3         CT2  \n",
       "4         CT2  "
      ]
     },
     "execution_count": 13,
     "metadata": {},
     "output_type": "execute_result"
    }
   ],
   "source": [
    "data.columns = [\"id\", \"detail\", \"region\", \"lng\", \"lat\", \"place\", \"category_id\"]\n",
    "data.head()"
   ]
  },
  {
   "cell_type": "code",
   "execution_count": 14,
   "id": "44486e07",
   "metadata": {
    "ExecuteTime": {
     "end_time": "2023-07-17T02:29:37.325183Z",
     "start_time": "2023-07-17T02:29:37.296226Z"
    }
   },
   "outputs": [
    {
     "data": {
      "text/html": [
       "<div>\n",
       "<style scoped>\n",
       "    .dataframe tbody tr th:only-of-type {\n",
       "        vertical-align: middle;\n",
       "    }\n",
       "\n",
       "    .dataframe tbody tr th {\n",
       "        vertical-align: top;\n",
       "    }\n",
       "\n",
       "    .dataframe thead th {\n",
       "        text-align: right;\n",
       "    }\n",
       "</style>\n",
       "<table border=\"1\" class=\"dataframe\">\n",
       "  <thead>\n",
       "    <tr style=\"text-align: right;\">\n",
       "      <th></th>\n",
       "      <th>id</th>\n",
       "      <th>category_id</th>\n",
       "      <th>detail</th>\n",
       "      <th>lat</th>\n",
       "      <th>lng</th>\n",
       "      <th>place</th>\n",
       "      <th>region</th>\n",
       "    </tr>\n",
       "  </thead>\n",
       "  <tbody>\n",
       "    <tr>\n",
       "      <th>0</th>\n",
       "      <td>KCLANPO22N000000001</td>\n",
       "      <td>CT1</td>\n",
       "      <td>호수/저수지</td>\n",
       "      <td>35.729306</td>\n",
       "      <td>128.932090</td>\n",
       "      <td>운문호</td>\n",
       "      <td>경상북도</td>\n",
       "    </tr>\n",
       "    <tr>\n",
       "      <th>1</th>\n",
       "      <td>KCLANPO22N000000002</td>\n",
       "      <td>CT2</td>\n",
       "      <td>사찰</td>\n",
       "      <td>35.018297</td>\n",
       "      <td>127.171274</td>\n",
       "      <td>유마사</td>\n",
       "      <td>전라남도</td>\n",
       "    </tr>\n",
       "    <tr>\n",
       "      <th>2</th>\n",
       "      <td>KCLANPO22N000000003</td>\n",
       "      <td>CT2</td>\n",
       "      <td>사찰</td>\n",
       "      <td>34.943969</td>\n",
       "      <td>128.395593</td>\n",
       "      <td>안정사</td>\n",
       "      <td>경상남도</td>\n",
       "    </tr>\n",
       "    <tr>\n",
       "      <th>3</th>\n",
       "      <td>KCLANPO22N000000004</td>\n",
       "      <td>CT2</td>\n",
       "      <td>사찰</td>\n",
       "      <td>37.428729</td>\n",
       "      <td>126.934391</td>\n",
       "      <td>염불암</td>\n",
       "      <td>경기도</td>\n",
       "    </tr>\n",
       "    <tr>\n",
       "      <th>4</th>\n",
       "      <td>KCLANPO22N000000005</td>\n",
       "      <td>CT2</td>\n",
       "      <td>사찰</td>\n",
       "      <td>35.745312</td>\n",
       "      <td>127.046958</td>\n",
       "      <td>귀신사</td>\n",
       "      <td>전라북도</td>\n",
       "    </tr>\n",
       "  </tbody>\n",
       "</table>\n",
       "</div>"
      ],
      "text/plain": [
       "                    id category_id  detail        lat         lng  place  \\\n",
       "0  KCLANPO22N000000001         CT1  호수/저수지  35.729306  128.932090  운문호     \n",
       "1  KCLANPO22N000000002         CT2      사찰  35.018297  127.171274  유마사     \n",
       "2  KCLANPO22N000000003         CT2      사찰  34.943969  128.395593  안정사     \n",
       "3  KCLANPO22N000000004         CT2      사찰  37.428729  126.934391  염불암     \n",
       "4  KCLANPO22N000000005         CT2      사찰  35.745312  127.046958  귀신사     \n",
       "\n",
       "  region  \n",
       "0   경상북도  \n",
       "1   전라남도  \n",
       "2   경상남도  \n",
       "3    경기도  \n",
       "4   전라북도  "
      ]
     },
     "execution_count": 14,
     "metadata": {},
     "output_type": "execute_result"
    }
   ],
   "source": [
    "data = data[[\"id\", \"category_id\", \"detail\", \"lat\", \"lng\", \"place\", \"region\"]]\n",
    "data.head()"
   ]
  },
  {
   "cell_type": "code",
   "execution_count": 15,
   "id": "783a6b17",
   "metadata": {
    "ExecuteTime": {
     "end_time": "2023-07-17T02:29:37.373055Z",
     "start_time": "2023-07-17T02:29:37.327144Z"
    }
   },
   "outputs": [
    {
     "name": "stdout",
     "output_type": "stream",
     "text": [
      "<class 'pandas.core.frame.DataFrame'>\n",
      "Int64Index: 35402 entries, 0 to 37966\n",
      "Data columns (total 7 columns):\n",
      " #   Column       Non-Null Count  Dtype  \n",
      "---  ------       --------------  -----  \n",
      " 0   id           35402 non-null  object \n",
      " 1   category_id  35402 non-null  object \n",
      " 2   detail       35402 non-null  object \n",
      " 3   lat          35402 non-null  float64\n",
      " 4   lng          35402 non-null  float64\n",
      " 5   place        35402 non-null  object \n",
      " 6   region       35402 non-null  object \n",
      "dtypes: float64(2), object(5)\n",
      "memory usage: 2.2+ MB\n"
     ]
    }
   ],
   "source": [
    "data.info()"
   ]
  },
  {
   "cell_type": "code",
   "execution_count": 16,
   "id": "a2a99fb1",
   "metadata": {
    "ExecuteTime": {
     "end_time": "2023-07-17T02:29:37.562348Z",
     "start_time": "2023-07-17T02:29:37.376014Z"
    }
   },
   "outputs": [],
   "source": [
    "data.to_csv(\"tptp.csv\", index=False, encoding=\"utf-8\")"
   ]
  },
  {
   "cell_type": "code",
   "execution_count": 17,
   "id": "b4267c56",
   "metadata": {
    "ExecuteTime": {
     "end_time": "2023-07-17T02:29:37.577714Z",
     "start_time": "2023-07-17T02:29:37.564595Z"
    }
   },
   "outputs": [],
   "source": [
    "category_df.to_csv(\"category.csv\", index=False, encoding=\"utf-8\")"
   ]
  },
  {
   "cell_type": "markdown",
   "id": "fae16221",
   "metadata": {},
   "source": [
    "# 주소열 추가"
   ]
  },
  {
   "cell_type": "code",
   "execution_count": 18,
   "id": "77223df8",
   "metadata": {
    "ExecuteTime": {
     "end_time": "2023-07-17T02:29:37.641176Z",
     "start_time": "2023-07-17T02:29:37.579634Z"
    }
   },
   "outputs": [],
   "source": [
    "import pymysql\n",
    "import pandas as pd"
   ]
  },
  {
   "cell_type": "code",
   "execution_count": 19,
   "id": "586dd06f",
   "metadata": {
    "ExecuteTime": {
     "end_time": "2023-07-17T02:29:37.970789Z",
     "start_time": "2023-07-17T02:29:37.643170Z"
    }
   },
   "outputs": [
    {
     "name": "stdout",
     "output_type": "stream",
     "text": [
      "35402\n"
     ]
    }
   ],
   "source": [
    "connect = pymysql.connect(\n",
    "    host='localhost', \n",
    "    user='root', \n",
    "    password='1234',\n",
    "    db='newdealdb', \n",
    "    charset='utf8'\n",
    ")\n",
    " \n",
    "cursor = connect.cursor()\n",
    "sql = \"SELECT id FROM tptp\"\n",
    "cursor.execute(sql)\n",
    " \n",
    "rows = cursor.fetchall()\n",
    "print(len(rows))"
   ]
  },
  {
   "cell_type": "code",
   "execution_count": 20,
   "id": "0beda96a",
   "metadata": {
    "ExecuteTime": {
     "end_time": "2023-07-17T02:29:38.299881Z",
     "start_time": "2023-07-17T02:29:37.972749Z"
    }
   },
   "outputs": [],
   "source": [
    "data = pd.read_csv(\"./KC_495_LLR_ATRCTN_2022.csv\")\n",
    "data[\"address\"] = data[\"CTPRVN_NM\"].str.cat(data[[\"SIGNGU_NM\", \"LEGALDONG_NM\", \"RDNMADR_NM\", \"BULD_NO\"]], sep=\" \", na_rep=\" \")"
   ]
  },
  {
   "cell_type": "code",
   "execution_count": 21,
   "id": "de8b678d",
   "metadata": {
    "ExecuteTime": {
     "end_time": "2023-07-17T02:29:38.331411Z",
     "start_time": "2023-07-17T02:29:38.301808Z"
    }
   },
   "outputs": [
    {
     "data": {
      "text/plain": [
       "37967"
      ]
     },
     "execution_count": 21,
     "metadata": {},
     "output_type": "execute_result"
    }
   ],
   "source": [
    "df_address = data[[\"ID\", \"address\"]].set_index(\"ID\")\n",
    "len(df_address)"
   ]
  },
  {
   "cell_type": "code",
   "execution_count": 22,
   "id": "e7dcd69c",
   "metadata": {
    "ExecuteTime": {
     "end_time": "2023-07-17T02:29:38.744943Z",
     "start_time": "2023-07-17T02:29:38.334404Z"
    }
   },
   "outputs": [],
   "source": [
    "items = []\n",
    "for row in rows:\n",
    "    items.append((df_address.loc[row[0], \"address\"].strip(), row[0]))"
   ]
  },
  {
   "cell_type": "code",
   "execution_count": 23,
   "id": "0df99b71",
   "metadata": {
    "ExecuteTime": {
     "end_time": "2023-07-17T02:29:38.823869Z",
     "start_time": "2023-07-17T02:29:38.747581Z"
    }
   },
   "outputs": [
    {
     "name": "stdout",
     "output_type": "stream",
     "text": [
      "35402\n"
     ]
    }
   ],
   "source": [
    "sql_file = []\n",
    "\n",
    "for add, idx in items:\n",
    "    sql = f\"UPDATE tptp SET address = '{add}' WHERE `id` = '{idx}';\\n\"\n",
    "    sql_file.append(sql)\n",
    "\n",
    "print(len(sql_file))\n",
    "\n",
    "with open(\"./230712-update address.sql\", \"w\") as f:\n",
    "    f.writelines(sql_file)"
   ]
  },
  {
   "cell_type": "code",
   "execution_count": null,
   "id": "9ebffc2b",
   "metadata": {},
   "outputs": [],
   "source": []
  },
  {
   "cell_type": "code",
   "execution_count": null,
   "id": "6a71a78a",
   "metadata": {},
   "outputs": [],
   "source": []
  },
  {
   "cell_type": "code",
   "execution_count": null,
   "id": "945507f8",
   "metadata": {},
   "outputs": [],
   "source": []
  },
  {
   "cell_type": "code",
   "execution_count": 24,
   "id": "b640483a",
   "metadata": {
    "ExecuteTime": {
     "end_time": "2023-07-21T04:16:14.178491Z",
     "start_time": "2023-07-21T04:16:13.114434Z"
    }
   },
   "outputs": [
    {
     "name": "stdout",
     "output_type": "stream",
     "text": [
      "35402\n"
     ]
    }
   ],
   "source": [
    "import pymysql\n",
    "\n",
    "connect = pymysql.connect(\n",
    "    host='192.168.0.132', \n",
    "    user='newdeal', \n",
    "    password='newdealtptp',\n",
    "    db='newdealdb', \n",
    "    charset='utf8'\n",
    ")\n",
    "\n",
    "cursor = connect.cursor()\n",
    "sql = \"SELECT id FROM tptp\"\n",
    "cursor.execute(sql)\n",
    " \n",
    "rows = cursor.fetchall()\n",
    "print(len(rows))"
   ]
  },
  {
   "cell_type": "code",
   "execution_count": 36,
   "id": "3c83113f",
   "metadata": {
    "ExecuteTime": {
     "end_time": "2023-07-21T04:20:42.014092Z",
     "start_time": "2023-07-21T04:20:41.676870Z"
    }
   },
   "outputs": [],
   "source": [
    "import pandas as pd\n",
    "data = pd.read_csv(\"./KC_495_LLR_ATRCTN_2022.csv\")"
   ]
  },
  {
   "cell_type": "code",
   "execution_count": 19,
   "id": "f397eea1",
   "metadata": {
    "ExecuteTime": {
     "end_time": "2023-07-21T04:14:51.111699Z",
     "start_time": "2023-07-21T04:14:51.075581Z"
    }
   },
   "outputs": [
    {
     "data": {
      "text/html": [
       "<div>\n",
       "<style scoped>\n",
       "    .dataframe tbody tr th:only-of-type {\n",
       "        vertical-align: middle;\n",
       "    }\n",
       "\n",
       "    .dataframe tbody tr th {\n",
       "        vertical-align: top;\n",
       "    }\n",
       "\n",
       "    .dataframe thead th {\n",
       "        text-align: right;\n",
       "    }\n",
       "</style>\n",
       "<table border=\"1\" class=\"dataframe\">\n",
       "  <thead>\n",
       "    <tr style=\"text-align: right;\">\n",
       "      <th></th>\n",
       "      <th>ID</th>\n",
       "      <th>BULD_NO</th>\n",
       "    </tr>\n",
       "  </thead>\n",
       "  <tbody>\n",
       "    <tr>\n",
       "      <th>6</th>\n",
       "      <td>KCLANPO22N000000007</td>\n",
       "      <td>43-17</td>\n",
       "    </tr>\n",
       "    <tr>\n",
       "      <th>23</th>\n",
       "      <td>KCLANPO22N000000024</td>\n",
       "      <td>1-38</td>\n",
       "    </tr>\n",
       "    <tr>\n",
       "      <th>30</th>\n",
       "      <td>KCLANPO22N000000031</td>\n",
       "      <td>269-74</td>\n",
       "    </tr>\n",
       "    <tr>\n",
       "      <th>34</th>\n",
       "      <td>KCLANPO22N000000035</td>\n",
       "      <td>41-15</td>\n",
       "    </tr>\n",
       "    <tr>\n",
       "      <th>35</th>\n",
       "      <td>KCLANPO22N000000036</td>\n",
       "      <td>233-7</td>\n",
       "    </tr>\n",
       "    <tr>\n",
       "      <th>...</th>\n",
       "      <td>...</td>\n",
       "      <td>...</td>\n",
       "    </tr>\n",
       "    <tr>\n",
       "      <th>37934</th>\n",
       "      <td>KCLANPO22N000037935</td>\n",
       "      <td>1516-10</td>\n",
       "    </tr>\n",
       "    <tr>\n",
       "      <th>37935</th>\n",
       "      <td>KCLANPO22N000037936</td>\n",
       "      <td>330-20</td>\n",
       "    </tr>\n",
       "    <tr>\n",
       "      <th>37940</th>\n",
       "      <td>KCLANPO22N000037941</td>\n",
       "      <td>116-13</td>\n",
       "    </tr>\n",
       "    <tr>\n",
       "      <th>37946</th>\n",
       "      <td>KCLANPO22N000037947</td>\n",
       "      <td>Jan-86</td>\n",
       "    </tr>\n",
       "    <tr>\n",
       "      <th>37948</th>\n",
       "      <td>KCLANPO22N000037949</td>\n",
       "      <td>Jun-32</td>\n",
       "    </tr>\n",
       "  </tbody>\n",
       "</table>\n",
       "<p>6291 rows × 2 columns</p>\n",
       "</div>"
      ],
      "text/plain": [
       "                        ID  BULD_NO\n",
       "6      KCLANPO22N000000007    43-17\n",
       "23     KCLANPO22N000000024     1-38\n",
       "30     KCLANPO22N000000031   269-74\n",
       "34     KCLANPO22N000000035    41-15\n",
       "35     KCLANPO22N000000036    233-7\n",
       "...                    ...      ...\n",
       "37934  KCLANPO22N000037935  1516-10\n",
       "37935  KCLANPO22N000037936   330-20\n",
       "37940  KCLANPO22N000037941   116-13\n",
       "37946  KCLANPO22N000037947   Jan-86\n",
       "37948  KCLANPO22N000037949   Jun-32\n",
       "\n",
       "[6291 rows x 2 columns]"
      ]
     },
     "execution_count": 19,
     "metadata": {},
     "output_type": "execute_result"
    }
   ],
   "source": [
    "data[data[\"BULD_NO\"].str.contains(\"-\", na=False)]"
   ]
  },
  {
   "cell_type": "code",
   "execution_count": 40,
   "id": "6df8322e",
   "metadata": {
    "ExecuteTime": {
     "end_time": "2023-07-21T04:21:34.594062Z",
     "start_time": "2023-07-21T04:21:34.523232Z"
    }
   },
   "outputs": [
    {
     "name": "stderr",
     "output_type": "stream",
     "text": [
      "C:\\Users\\ParkMinjeong\\AppData\\Local\\Temp\\ipykernel_12056\\2351326971.py:2: SettingWithCopyWarning: \n",
      "A value is trying to be set on a copy of a slice from a DataFrame.\n",
      "Try using .loc[row_indexer,col_indexer] = value instead\n",
      "\n",
      "See the caveats in the documentation: https://pandas.pydata.org/pandas-docs/stable/user_guide/indexing.html#returning-a-view-versus-a-copy\n",
      "  temp1[\"BULD_NO\"] = temp1[\"BULD_NO\"].apply(lambda x: f\"{int(x.split('월')[0])}-{int(x.split('월')[1].split('일')[0])}\")\n",
      "C:\\Users\\ParkMinjeong\\AppData\\Local\\Temp\\ipykernel_12056\\2351326971.py:3: SettingWithCopyWarning: \n",
      "A value is trying to be set on a copy of a slice from a DataFrame.\n",
      "Try using .loc[row_indexer,col_indexer] = value instead\n",
      "\n",
      "See the caveats in the documentation: https://pandas.pydata.org/pandas-docs/stable/user_guide/indexing.html#returning-a-view-versus-a-copy\n",
      "  temp1[\"address\"] = temp1[\"CTPRVN_NM\"].str.cat(temp1[[\"SIGNGU_NM\", \"LEGALDONG_NM\", \"RDNMADR_NM\", \"BULD_NO\"]], sep=\" \", na_rep=\" \")\n"
     ]
    },
    {
     "data": {
      "text/html": [
       "<div>\n",
       "<style scoped>\n",
       "    .dataframe tbody tr th:only-of-type {\n",
       "        vertical-align: middle;\n",
       "    }\n",
       "\n",
       "    .dataframe tbody tr th {\n",
       "        vertical-align: top;\n",
       "    }\n",
       "\n",
       "    .dataframe thead th {\n",
       "        text-align: right;\n",
       "    }\n",
       "</style>\n",
       "<table border=\"1\" class=\"dataframe\">\n",
       "  <thead>\n",
       "    <tr style=\"text-align: right;\">\n",
       "      <th></th>\n",
       "      <th>ID</th>\n",
       "      <th>LCLAS_NM</th>\n",
       "      <th>MLSFC_NM</th>\n",
       "      <th>POI_ID</th>\n",
       "      <th>POI_NM</th>\n",
       "      <th>BHF_NM</th>\n",
       "      <th>ASSTN_NM</th>\n",
       "      <th>CL_CD</th>\n",
       "      <th>CL_NM</th>\n",
       "      <th>PNU</th>\n",
       "      <th>...</th>\n",
       "      <th>RDNMADR_NM</th>\n",
       "      <th>BULD_NO</th>\n",
       "      <th>LC_LO</th>\n",
       "      <th>LC_LA</th>\n",
       "      <th>GID_CD</th>\n",
       "      <th>LAST_CHG_DE</th>\n",
       "      <th>ORIGIN_NM</th>\n",
       "      <th>FILE_NM</th>\n",
       "      <th>BASE_DE</th>\n",
       "      <th>address</th>\n",
       "    </tr>\n",
       "  </thead>\n",
       "  <tbody>\n",
       "    <tr>\n",
       "      <th>33</th>\n",
       "      <td>KCLANPO22N000000034</td>\n",
       "      <td>장소</td>\n",
       "      <td>관광지</td>\n",
       "      <td>5843019</td>\n",
       "      <td>성불사</td>\n",
       "      <td>NaN</td>\n",
       "      <td>NaN</td>\n",
       "      <td>180302</td>\n",
       "      <td>지역사찰</td>\n",
       "      <td>4.713010e+18</td>\n",
       "      <td>...</td>\n",
       "      <td>포석정안길</td>\n",
       "      <td>4-1</td>\n",
       "      <td>129.213452</td>\n",
       "      <td>35.807849</td>\n",
       "      <td>마마548581</td>\n",
       "      <td>20220809</td>\n",
       "      <td>KT</td>\n",
       "      <td>KC_495_LLR_ATRCTN_2022</td>\n",
       "      <td>20220809</td>\n",
       "      <td>경상북도 경주시 배동 포석정안길 4-1</td>\n",
       "    </tr>\n",
       "    <tr>\n",
       "      <th>40</th>\n",
       "      <td>KCLANPO22N000000041</td>\n",
       "      <td>장소</td>\n",
       "      <td>관광지</td>\n",
       "      <td>5851799</td>\n",
       "      <td>인월사</td>\n",
       "      <td>NaN</td>\n",
       "      <td>NaN</td>\n",
       "      <td>180302</td>\n",
       "      <td>지역사찰</td>\n",
       "      <td>4.215010e+18</td>\n",
       "      <td>...</td>\n",
       "      <td>경포로463번안길</td>\n",
       "      <td>12-21</td>\n",
       "      <td>128.900632</td>\n",
       "      <td>37.800983</td>\n",
       "      <td>마사233788</td>\n",
       "      <td>20220809</td>\n",
       "      <td>KT</td>\n",
       "      <td>KC_495_LLR_ATRCTN_2022</td>\n",
       "      <td>20220809</td>\n",
       "      <td>강원도 강릉시 저동 경포로463번안길 12-21</td>\n",
       "    </tr>\n",
       "    <tr>\n",
       "      <th>46</th>\n",
       "      <td>KCLANPO22N000000047</td>\n",
       "      <td>장소</td>\n",
       "      <td>관광지</td>\n",
       "      <td>10207960</td>\n",
       "      <td>청량사</td>\n",
       "      <td>NaN</td>\n",
       "      <td>NaN</td>\n",
       "      <td>180302</td>\n",
       "      <td>지역사찰</td>\n",
       "      <td>1.123010e+18</td>\n",
       "      <td>...</td>\n",
       "      <td>제기로31길</td>\n",
       "      <td>10-3</td>\n",
       "      <td>127.047777</td>\n",
       "      <td>37.588221</td>\n",
       "      <td>다사600544</td>\n",
       "      <td>20220809</td>\n",
       "      <td>KT</td>\n",
       "      <td>KC_495_LLR_ATRCTN_2022</td>\n",
       "      <td>20220809</td>\n",
       "      <td>서울특별시 동대문구 청량리동 제기로31길 10-3</td>\n",
       "    </tr>\n",
       "    <tr>\n",
       "      <th>57</th>\n",
       "      <td>KCLANPO22N000000058</td>\n",
       "      <td>장소</td>\n",
       "      <td>관광지</td>\n",
       "      <td>11409698</td>\n",
       "      <td>충효사</td>\n",
       "      <td>NaN</td>\n",
       "      <td>NaN</td>\n",
       "      <td>180302</td>\n",
       "      <td>지역사찰</td>\n",
       "      <td>4.679040e+18</td>\n",
       "      <td>...</td>\n",
       "      <td>벽동길</td>\n",
       "      <td>9-13</td>\n",
       "      <td>126.888831</td>\n",
       "      <td>34.955014</td>\n",
       "      <td>다라441624</td>\n",
       "      <td>20220809</td>\n",
       "      <td>KT</td>\n",
       "      <td>KC_495_LLR_ATRCTN_2022</td>\n",
       "      <td>20220809</td>\n",
       "      <td>전라남도 화순군 도암면 벽동길 9-13</td>\n",
       "    </tr>\n",
       "    <tr>\n",
       "      <th>72</th>\n",
       "      <td>KCLANPO22N000000073</td>\n",
       "      <td>장소</td>\n",
       "      <td>관광지</td>\n",
       "      <td>14482220</td>\n",
       "      <td>금선사</td>\n",
       "      <td>NaN</td>\n",
       "      <td>NaN</td>\n",
       "      <td>180302</td>\n",
       "      <td>지역사찰</td>\n",
       "      <td>2.920010e+18</td>\n",
       "      <td>...</td>\n",
       "      <td>송정공원로</td>\n",
       "      <td>8-23</td>\n",
       "      <td>126.799579</td>\n",
       "      <td>35.145980</td>\n",
       "      <td>다라361836</td>\n",
       "      <td>20220809</td>\n",
       "      <td>KT</td>\n",
       "      <td>KC_495_LLR_ATRCTN_2022</td>\n",
       "      <td>20220809</td>\n",
       "      <td>광주광역시 광산구 소촌동 송정공원로 8-23</td>\n",
       "    </tr>\n",
       "  </tbody>\n",
       "</table>\n",
       "<p>5 rows × 28 columns</p>\n",
       "</div>"
      ],
      "text/plain": [
       "                     ID LCLAS_NM MLSFC_NM    POI_ID POI_NM BHF_NM  ASSTN_NM  \\\n",
       "33  KCLANPO22N000000034       장소      관광지   5843019    성불사    NaN       NaN   \n",
       "40  KCLANPO22N000000041       장소      관광지   5851799    인월사    NaN       NaN   \n",
       "46  KCLANPO22N000000047       장소      관광지  10207960    청량사    NaN       NaN   \n",
       "57  KCLANPO22N000000058       장소      관광지  11409698    충효사    NaN       NaN   \n",
       "72  KCLANPO22N000000073       장소      관광지  14482220    금선사    NaN       NaN   \n",
       "\n",
       "     CL_CD CL_NM           PNU  ... RDNMADR_NM BULD_NO       LC_LO      LC_LA  \\\n",
       "33  180302  지역사찰  4.713010e+18  ...      포석정안길     4-1  129.213452  35.807849   \n",
       "40  180302  지역사찰  4.215010e+18  ...  경포로463번안길   12-21  128.900632  37.800983   \n",
       "46  180302  지역사찰  1.123010e+18  ...     제기로31길    10-3  127.047777  37.588221   \n",
       "57  180302  지역사찰  4.679040e+18  ...        벽동길    9-13  126.888831  34.955014   \n",
       "72  180302  지역사찰  2.920010e+18  ...      송정공원로    8-23  126.799579  35.145980   \n",
       "\n",
       "      GID_CD  LAST_CHG_DE  ORIGIN_NM                 FILE_NM   BASE_DE  \\\n",
       "33  마마548581     20220809         KT  KC_495_LLR_ATRCTN_2022  20220809   \n",
       "40  마사233788     20220809         KT  KC_495_LLR_ATRCTN_2022  20220809   \n",
       "46  다사600544     20220809         KT  KC_495_LLR_ATRCTN_2022  20220809   \n",
       "57  다라441624     20220809         KT  KC_495_LLR_ATRCTN_2022  20220809   \n",
       "72  다라361836     20220809         KT  KC_495_LLR_ATRCTN_2022  20220809   \n",
       "\n",
       "                        address  \n",
       "33        경상북도 경주시 배동 포석정안길 4-1  \n",
       "40   강원도 강릉시 저동 경포로463번안길 12-21  \n",
       "46  서울특별시 동대문구 청량리동 제기로31길 10-3  \n",
       "57        전라남도 화순군 도암면 벽동길 9-13  \n",
       "72     광주광역시 광산구 소촌동 송정공원로 8-23  \n",
       "\n",
       "[5 rows x 28 columns]"
      ]
     },
     "execution_count": 40,
     "metadata": {},
     "output_type": "execute_result"
    }
   ],
   "source": [
    "temp1 = data[data[\"BULD_NO\"].str.contains(\"월\", na=False)]\n",
    "temp1[\"BULD_NO\"] = temp1[\"BULD_NO\"].apply(lambda x: f\"{int(x.split('월')[0])}-{int(x.split('월')[1].split('일')[0])}\")\n",
    "temp1[\"address\"] = temp1[\"CTPRVN_NM\"].str.cat(temp1[[\"SIGNGU_NM\", \"LEGALDONG_NM\", \"RDNMADR_NM\", \"BULD_NO\"]], sep=\" \", na_rep=\" \")\n",
    "temp1.head()"
   ]
  },
  {
   "cell_type": "code",
   "execution_count": 45,
   "id": "29181eb9",
   "metadata": {
    "ExecuteTime": {
     "end_time": "2023-07-21T04:22:52.231719Z",
     "start_time": "2023-07-21T04:22:33.891140Z"
    }
   },
   "outputs": [],
   "source": [
    "data = [(\n",
    "    temp1.loc[i, \"address\"], \n",
    "    temp1.loc[i, \"ID\"]\n",
    ") for i in temp1.index]\n",
    "\n",
    "sql = \"\"\"\n",
    "UPDATE tptp \n",
    "SET address=%s \n",
    "WHERE id=%s;\n",
    "\"\"\"\n",
    "\n",
    "cursor.executemany(sql, data)\n",
    "\n",
    "connect.commit()"
   ]
  }
 ],
 "metadata": {
  "kernelspec": {
   "display_name": "Python 3 (ipykernel)",
   "language": "python",
   "name": "python3"
  },
  "language_info": {
   "codemirror_mode": {
    "name": "ipython",
    "version": 3
   },
   "file_extension": ".py",
   "mimetype": "text/x-python",
   "name": "python",
   "nbconvert_exporter": "python",
   "pygments_lexer": "ipython3",
   "version": "3.9.15"
  },
  "toc": {
   "base_numbering": 1,
   "nav_menu": {},
   "number_sections": true,
   "sideBar": true,
   "skip_h1_title": false,
   "title_cell": "Table of Contents",
   "title_sidebar": "Contents",
   "toc_cell": false,
   "toc_position": {},
   "toc_section_display": true,
   "toc_window_display": false
  },
  "varInspector": {
   "cols": {
    "lenName": 16,
    "lenType": 16,
    "lenVar": 40
   },
   "kernels_config": {
    "python": {
     "delete_cmd_postfix": "",
     "delete_cmd_prefix": "del ",
     "library": "var_list.py",
     "varRefreshCmd": "print(var_dic_list())"
    },
    "r": {
     "delete_cmd_postfix": ") ",
     "delete_cmd_prefix": "rm(",
     "library": "var_list.r",
     "varRefreshCmd": "cat(var_dic_list()) "
    }
   },
   "types_to_exclude": [
    "module",
    "function",
    "builtin_function_or_method",
    "instance",
    "_Feature"
   ],
   "window_display": false
  }
 },
 "nbformat": 4,
 "nbformat_minor": 5
}
